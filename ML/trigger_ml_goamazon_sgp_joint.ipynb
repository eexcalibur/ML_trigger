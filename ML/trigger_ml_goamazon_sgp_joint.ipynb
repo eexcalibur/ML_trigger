{
 "cells": [
  {
   "cell_type": "markdown",
   "metadata": {},
   "source": [
    "## load packages"
   ]
  },
  {
   "cell_type": "code",
   "execution_count": 17,
   "metadata": {},
   "outputs": [],
   "source": [
    "from sklearn.metrics import confusion_matrix\n",
    "import load_data\n",
    "import my_metrics\n",
    "import plot_learning_curve\n",
    "import numpy as np\n",
    "import sys \n",
    "from sklearn.preprocessing import StandardScaler\n",
    "from sklearn.model_selection import ShuffleSplit\n",
    "from sklearn.model_selection import cross_val_score\n",
    "from sklearn import ensemble\n",
    "from sklearn.metrics import mean_squared_error\n",
    "from xgboost import XGBClassifier\n",
    "import pandas as pd\n",
    "from sklearn import metrics\n",
    "from sklearn import tree\n",
    "import matplotlib.pyplot as plt \n",
    "from sklearn.metrics import f1_score, precision_score, recall_score\n",
    "import seaborn as sns\n",
    "from sklearn.model_selection import train_test_split\n",
    "from xgboost import XGBClassifier\n",
    "from sklearn.model_selection import GridSearchCV, cross_val_score, StratifiedKFold, learning_curve\n",
    "from sklearn.svm import SVC\n",
    "from sklearn.tree import DecisionTreeClassifier\n",
    "from sklearn.ensemble import RandomForestClassifier, AdaBoostClassifier, GradientBoostingClassifier, ExtraTreesClassifier, VotingClassifier\n",
    "from sklearn.discriminant_analysis import LinearDiscriminantAnalysis\n",
    "from sklearn.linear_model import LogisticRegression\n",
    "from sklearn.neighbors import KNeighborsClassifier\n",
    "from sklearn.neural_network import MLPClassifier\n",
    "import matplotlib as mpl\n",
    "\n",
    "%matplotlib inline"
   ]
  },
  {
   "cell_type": "markdown",
   "metadata": {},
   "source": [
    "## load goamazon"
   ]
  },
  {
   "cell_type": "code",
   "execution_count": 18,
   "metadata": {},
   "outputs": [
    {
     "name": "stdout",
     "output_type": "stream",
     "text": [
      "(5840, 93)\n",
      "(935, 92)\n",
      "(4905, 92)\n",
      "935.0\n"
     ]
    }
   ],
   "source": [
    "dilute_cape = np.loadtxt(\"../../data/goamazon/dilute_cape\")\n",
    "dilute_dcape = np.loadtxt(\"../../data/goamazon/dilute_dcape\")\n",
    "undilute_dcape = np.loadtxt(\"../../data/goamazon/undilute_dcape\")\n",
    "undilute_cape = np.loadtxt(\"../../data/goamazon/undilute_cape\")\n",
    "lcl = np.loadtxt(\"../../data/goamazon/dilute_lcl\")\n",
    "\n",
    "dataset_goamazon = load_data.load_arm_hy(\"../../data/goamazon/trigger_goamazon_hy.nc\")\n",
    "\n",
    "dataset_goamazon['cape'] = dilute_dcape\n",
    "dataset_goamazon['lcl'] = lcl\n",
    "dataset_goamazon['where'] = 0.0\n",
    "print(dataset_goamazon.shape)\n",
    "#print(dataset.dtypes)\n",
    "\n",
    "dataset_goamazon.rename(columns={'cape': 'ddcape'}, inplace=True)\n",
    "\n",
    "pos_goamazon = dataset_goamazon[dataset_goamazon.label==1]\n",
    "neg_goamazon = dataset_goamazon[dataset_goamazon.label==0]\n",
    "print(pos.shape)\n",
    "print(neg.shape)\n",
    "\n",
    "trig_x_goamazon = dataset_goamazon.iloc[:,0:86]\n",
    "trig_y_goamazon = dataset_goamazon.iloc[:,86]\n",
    "\n",
    "print(np.sum(trig_y_goamazon))\n",
    "trig_x_train_goamazon,trig_x_test_goamazon,trig_y_train_goamazon,trig_y_test_goamazon= train_test_split(trig_x_goamazon, trig_y_goamazon, test_size=0.2, random_state=20)"
   ]
  },
  {
   "cell_type": "markdown",
   "metadata": {},
   "source": [
    "## load SGP"
   ]
  },
  {
   "cell_type": "code",
   "execution_count": 19,
   "metadata": {},
   "outputs": [
    {
     "name": "stdout",
     "output_type": "stream",
     "text": [
      "(22800, 93)\n",
      "(22800, 86)\n",
      "(1991, 93)\n",
      "(20809, 93)\n"
     ]
    }
   ],
   "source": [
    "dilute_cape = np.loadtxt(\"../../data/sgp/arm_continuous_at_sgp/dilute_cape\")\n",
    "dilute_dcape = np.loadtxt(\"../../data/sgp/arm_continuous_at_sgp/dilute_dcape\")\n",
    "undilute_dcape = np.loadtxt(\"../../data/sgp/arm_continuous_at_sgp/undilute_dcape\")\n",
    "undilute_cape = np.loadtxt(\"../../data/sgp/arm_continuous_at_sgp/undilute_cape\")\n",
    "lcl = np.loadtxt(\"../../data/sgp/arm_continuous_at_sgp/dilute_lcl\")\n",
    "\n",
    "dataset_sgp = load_data.load_sgp_data(\"../../data/sgp/arm_continuous_at_sgp/Arm_CF_1999_2009_hy.nc\")\n",
    "dataset_sgp['cape'] = dilute_dcape\n",
    "dataset_sgp['lcl'] = lcl\n",
    "dataset_sgp['where'] = 1.0\n",
    "dataset_sgp.rename(columns={'cape': 'ddcape'}, inplace=True)\n",
    "print(dataset_sgp.shape)\n",
    "\n",
    "trig_x_sgp = dataset_sgp.iloc[:,0:86]\n",
    "trig_y_sgp = dataset_sgp.iloc[:,86]\n",
    "\n",
    "pos_sgp = dataset_sgp[dataset_sgp.label==1]\n",
    "neg_sgp = dataset_sgp[dataset_sgp.label==0]\n",
    "\n",
    "print(trig_x_sgp.shape)\n",
    "print(pos_sgp.shape)\n",
    "print(neg_sgp.shape)\n",
    "\n",
    "trig_x_train_sgp,trig_x_test_sgp,trig_y_train_sgp,trig_y_test_sgp= train_test_split(trig_x_sgp, trig_y_sgp, test_size=0.2, random_state=20)"
   ]
  },
  {
   "cell_type": "markdown",
   "metadata": {},
   "source": [
    "## SGP train, GoAmazon test"
   ]
  },
  {
   "cell_type": "code",
   "execution_count": 11,
   "metadata": {},
   "outputs": [
    {
     "name": "stdout",
     "output_type": "stream",
     "text": [
      "398 573 72 125\n",
      "0.41586188982666444 0.5129458025970859 0.5222022406122737\n"
     ]
    }
   ],
   "source": [
    "cv = ShuffleSplit(n_splits=5, test_size=0.2, random_state=10)\n",
    "xgb = XGBClassifier(n_estimators=600,silent=True, nthread=8, max_depth=7,scale_pos_weight=3.5)\n",
    "\n",
    "xgb.fit(trig_x_sgp,trig_y_sgp)\n",
    "y_pred_amazon = xgb.predict(trig_x_test_goamazon)\n",
    "tn, fp, fn, tp = confusion_matrix(trig_y_test_goamazon, y_pred_amazon).ravel()\n",
    "f1 = f1_score(trig_y_test_goamazon, y_pred_amazon,average='macro')\n",
    "P  = precision_score(trig_y_test_goamazon, y_pred_amazon,average='macro')\n",
    "R  = recall_score(trig_y_test_goamazon, y_pred_amazon,average='macro')\n",
    "print(tn,fp,fn,tp)\n",
    "print(f1, P, R)"
   ]
  },
  {
   "cell_type": "markdown",
   "metadata": {},
   "source": [
    "## GoAmazon train, SGP test"
   ]
  },
  {
   "cell_type": "code",
   "execution_count": 12,
   "metadata": {},
   "outputs": [
    {
     "name": "stdout",
     "output_type": "stream",
     "text": [
      "3918 220 166 256\n",
      "0.7616043436074327 0.7485843504884814 0.7767346452598618\n"
     ]
    }
   ],
   "source": [
    "cv = ShuffleSplit(n_splits=5, test_size=0.2, random_state=10)\n",
    "xgb = XGBClassifier(n_estimators=600,silent=True, nthread=8, max_depth=7,scale_pos_weight=3.5)\n",
    "\n",
    "xgb.fit(trig_x_goamazon,trig_y_goamazon)\n",
    "y_pred_sgp = xgb.predict(trig_x_test_sgp)\n",
    "tn, fp, fn, tp = confusion_matrix(trig_y_test_sgp, y_pred_sgp).ravel()\n",
    "f1 = f1_score(trig_y_test_sgp, y_pred_sgp,average='macro')\n",
    "P  = precision_score(trig_y_test_sgp, y_pred_sgp,average='macro')\n",
    "R  = recall_score(trig_y_test_sgp, y_pred_sgp,average='macro')\n",
    "print(tn,fp,fn,tp)\n",
    "print(f1, P, R)"
   ]
  },
  {
   "cell_type": "markdown",
   "metadata": {},
   "source": [
    "## Joint train, Joint test"
   ]
  },
  {
   "cell_type": "code",
   "execution_count": 30,
   "metadata": {},
   "outputs": [
    {
     "name": "stdout",
     "output_type": "stream",
     "text": [
      "(28640, 93)\n",
      "415 76 134 5103\n",
      "0.8889578163771712 0.9098133405305426 0.8706226033325701\n"
     ]
    }
   ],
   "source": [
    "joint = pd.concat([dataset_goamazon,dataset_sgp], sort=False)\n",
    "\n",
    "print(joint.shape)\n",
    "\n",
    "x_joint = joint.iloc[:,0:86]\n",
    "y_joint = joint.iloc[:,86]\n",
    "x_train_joint,x_test_joint,y_train_joint,y_test_joint= train_test_split(x_joint, y_joint, test_size=0.2, random_state=20)\n",
    "\n",
    "\n",
    "cv = ShuffleSplit(n_splits=5, test_size=0.2, random_state=10)\n",
    "xgb = XGBClassifier(n_estimators=600,silent=True, nthread=8, max_depth=7,scale_pos_weight=3.5)\n",
    "\n",
    "xgb.fit(x_train_joint,y_train_joint)\n",
    "y_pred_joint = xgb.predict(x_test_joint)\n",
    "tn, fp, fn, tp = confusion_matrix(y_test_joint, y_pred_joint).ravel()\n",
    "f1 = f1_score(y_test_joint, y_pred_joint,average='macro')\n",
    "P  = precision_score(y_test_joint, y_pred_joint,average='macro')\n",
    "R  = recall_score(y_test_joint, y_pred_joint,average='macro')\n",
    "print(tp,fp,fn,tn)\n",
    "print(f1, P, R)"
   ]
  },
  {
   "cell_type": "markdown",
   "metadata": {},
   "source": [
    "## Joint train,  SGP test"
   ]
  },
  {
   "cell_type": "code",
   "execution_count": 33,
   "metadata": {},
   "outputs": [
    {
     "name": "stdout",
     "output_type": "stream",
     "text": [
      "339 47 83 4091\n",
      "0.9117344361962664 0.9291766697865642 0.8959796957570454\n"
     ]
    }
   ],
   "source": [
    "x_joint_train = np.concatenate((trig_x_train_sgp, trig_x_train_goamazon), axis=0)\n",
    "y_joint_train = np.concatenate((trig_y_train_sgp, trig_y_train_goamazon), axis=0)\n",
    "\n",
    "cv = ShuffleSplit(n_splits=5, test_size=0.2, random_state=10)\n",
    "xgb = XGBClassifier(n_estimators=600,silent=True, nthread=8, max_depth=7,scale_pos_weight=3.5)\n",
    "\n",
    "xgb.fit(x_joint_train, y_joint_train)\n",
    "y_pred_sgp = xgb.predict(trig_x_test_sgp.values)\n",
    "tn, fp, fn, tp = confusion_matrix(trig_y_test_sgp, y_pred_sgp).ravel()\n",
    "f1 = f1_score(trig_y_test_sgp, y_pred_sgp,average='macro')\n",
    "P = precision_score(trig_y_test_sgp, y_pred_sgp,average='macro')\n",
    "R = recall_score(trig_y_test_sgp, y_pred_sgp,average='macro')\n",
    "print(tp,fp,fn,tn)\n",
    "print(f1, P, R)"
   ]
  },
  {
   "cell_type": "markdown",
   "metadata": {},
   "source": [
    "## Joint train, Goamazon test"
   ]
  },
  {
   "cell_type": "code",
   "execution_count": 34,
   "metadata": {},
   "outputs": [
    {
     "name": "stdout",
     "output_type": "stream",
     "text": [
      "133 17 64 954\n",
      "0.8629233116434337 0.9118991486574983 0.8288095897787096\n"
     ]
    }
   ],
   "source": [
    "x_joint_train = np.concatenate((trig_x_train_sgp, trig_x_train_goamazon), axis=0)\n",
    "y_joint_train = np.concatenate((trig_y_train_sgp, trig_y_train_goamazon), axis=0)\n",
    "\n",
    "cv = ShuffleSplit(n_splits=5, test_size=0.2, random_state=10)\n",
    "xgb = XGBClassifier(n_estimators=600,silent=True, nthread=8, max_depth=7,scale_pos_weight=3.5)\n",
    "\n",
    "xgb.fit(x_joint_train, y_joint_train)\n",
    "y_pred_goamazon = xgb.predict(trig_x_test_goamazon.values)\n",
    "tn, fp, fn, tp = confusion_matrix(trig_y_test_goamazon, y_pred_goamazon).ravel()\n",
    "f1 = f1_score(trig_y_test_goamazon, y_pred_goamazon,average='macro')\n",
    "P = precision_score(trig_y_test_goamazon, y_pred_goamazon,average='macro')\n",
    "R = recall_score(trig_y_test_goamazon, y_pred_goamazon,average='macro')\n",
    "print(tp,fp,fn,tn)\n",
    "print(f1, P, R)"
   ]
  },
  {
   "cell_type": "code",
   "execution_count": null,
   "metadata": {},
   "outputs": [],
   "source": []
  }
 ],
 "metadata": {
  "kernelspec": {
   "display_name": "Python 3",
   "language": "python",
   "name": "python3"
  },
  "language_info": {
   "codemirror_mode": {
    "name": "ipython",
    "version": 3
   },
   "file_extension": ".py",
   "mimetype": "text/x-python",
   "name": "python",
   "nbconvert_exporter": "python",
   "pygments_lexer": "ipython3",
   "version": "3.7.3"
  },
  "latex_envs": {
   "LaTeX_envs_menu_present": true,
   "autoclose": false,
   "autocomplete": true,
   "bibliofile": "biblio.bib",
   "cite_by": "apalike",
   "current_citInitial": 1,
   "eqLabelWithNumbers": true,
   "eqNumInitial": 1,
   "hotkeys": {
    "equation": "Ctrl-E",
    "itemize": "Ctrl-I"
   },
   "labels_anchors": false,
   "latex_user_defs": false,
   "report_style_numbering": false,
   "user_envs_cfg": false
  },
  "toc": {
   "base_numbering": 1,
   "nav_menu": {},
   "number_sections": true,
   "sideBar": true,
   "skip_h1_title": false,
   "title_cell": "Table of Contents",
   "title_sidebar": "Contents",
   "toc_cell": false,
   "toc_position": {
    "height": "calc(100% - 180px)",
    "left": "10px",
    "top": "150px",
    "width": "165px"
   },
   "toc_section_display": true,
   "toc_window_display": true
  }
 },
 "nbformat": 4,
 "nbformat_minor": 4
}
