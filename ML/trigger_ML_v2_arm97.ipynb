{
 "cells": [
  {
   "cell_type": "code",
   "execution_count": 1,
   "metadata": {},
   "outputs": [],
   "source": [
    "import numpy as np\n",
    "import pandas as pd\n",
    "import matplotlib.pyplot as plt\n",
    "import load_data\n",
    "from sklearn.model_selection import train_test_split\n",
    "from xgboost import XGBClassifier\n",
    "from sklearn.metrics import confusion_matrix\n",
    "from sklearn.metrics import f1_score, precision_score, recall_score\n",
    "import plot_learning_curve\n",
    "from sklearn.model_selection import ShuffleSplit\n",
    "from matplotlib import cm\n",
    "import importlib\n",
    "import cdms2 as cdms\n",
    "import MV2 as MV\n",
    "from sklearn.preprocessing import MinMaxScaler"
   ]
  },
  {
   "cell_type": "code",
   "execution_count": 2,
   "metadata": {},
   "outputs": [],
   "source": [
    "sites = ['sgp','goamazon']\n",
    "sites = ['sgp']\n",
    "feature_path = \"/global/homes/z/zhangtao/ML_trigger/ML/data/\"\n",
    "feature_files = [\"Arm_CF_1999_2009_hy.nc\"]\n",
    "cape_names = ['dilute_dcape','dilute_cape','undilute_dcape','undilute_cape']\n",
    "cape_names_sh = ['dd','dc','udd','udc']\n",
    "scam_dir=\"/global/homes/z/zhangtao/ML_trigger/calc_cape/scam_offline/\""
   ]
  },
  {
   "cell_type": "code",
   "execution_count": null,
   "metadata": {},
   "outputs": [],
   "source": []
  },
  {
   "cell_type": "code",
   "execution_count": 3,
   "metadata": {},
   "outputs": [],
   "source": [
    "def load_ArmData(path):\n",
    "    fid = cdms.open(path)\n",
    "    prect = fid('prec_srf')\n",
    "    q = fid('q')\n",
    "    T = fid('T')\n",
    "    u = fid('u')\n",
    "    v = fid('v')\n",
    "    T_adv_h = fid('T_adv_h')\n",
    "    s_adv_h = fid('s_adv_h')\n",
    "    LH = fid('LH')\n",
    "    SH = fid('SH')\n",
    "    RH_srf = fid('RH_srf')\n",
    "    T_srf = fid('T_srf')\n",
    "    \n",
    "    # lower (700–800hPa), upper (200–300hPa),middle(300–700 hPa)    600hpa  \n",
    "    #Chen Q, et al. Roles of wind shear at different vertical levels: Cloud \n",
    "    #system organization and properties.\n",
    "    \n",
    "    #vertical wind shear\n",
    "    u_low = u[:,8] #800hpa\n",
    "    u_mid = u[:,12] #700hpa\n",
    "    u_high = u[:,28] # 300hpa\n",
    "    u_top = u[:,32] # 200hpa\n",
    "    \n",
    "    v_low = v[:,8] #800hpa\n",
    "    v_mid = v[:,12] #700hpa\n",
    "    v_high = v[:,28] # 300hpa\n",
    "    v_top = v[:,32] # 200hpa\n",
    "    \n",
    "    u_shear_low = u_mid - u_low\n",
    "    u_shear_mid = u_high - u_mid\n",
    "    u_shear_high = u_top - u_high\n",
    "    \n",
    "    v_shear_low = v_mid - v_low\n",
    "    v_shear_mid = v_high - v_mid\n",
    "    v_shear_high = v_top - v_high\n",
    "    \n",
    "    shear_low = (u_shear_low**2 + v_shear_low**2)**0.5\n",
    "    shear_mid = ( u_shear_mid**2 + v_shear_mid**2 )**0.5\n",
    "    shear_high = ( u_shear_high**2 + v_shear_high**2 )**0.5\n",
    "    \n",
    "    #shear_low = u_shear_low + v_shear_low \n",
    "    #shear_mid = u_shear_mid + v_shear_mid\n",
    "    #shear_high = u_shear_high + v_shear_high\n",
    "    \n",
    "    #T and Q average\n",
    "    T_low = MV.average(T[:,8:12+1],axis=1) #800hpa - 700hpa\n",
    "    T_mid = MV.average(T[:,12:28+1],axis=1) #700hpa - 300hpa\n",
    "    T_high = MV.average(T[:,28:32+1],axis=1) # 300hpa - 200hpa\n",
    "    \n",
    "    q_low = MV.average(q[:,8:12+1],axis=1) \n",
    "    q_mid = MV.average(q[:,12:28+1],axis=1) \n",
    "    q_high = MV.average(q[:,28:32+1],axis=1) \n",
    "    \n",
    "    #Advective Tendency average\n",
    "    T_adv_h_low = MV.average(T_adv_h[:,8:12+1],axis=1) \n",
    "    T_adv_h_mid = MV.average(T_adv_h[:,12:28+1],axis=1) \n",
    "    T_adv_h_high = MV.average(T_adv_h[:,28:32+1],axis=1) \n",
    "    \n",
    "    s_adv_h_low = MV.average(s_adv_h[:,8:12+1],axis=1) \n",
    "    s_adv_h_mid = MV.average(s_adv_h[:,12:28+1],axis=1) \n",
    "    s_adv_h_high = MV.average(s_adv_h[:,28:32+1],axis=1)  \n",
    "    \n",
    "    #single level variable\n",
    "    \n",
    "    dataset = pd.DataFrame()\n",
    "    \n",
    "    dataset['LH'] = LH\n",
    "    dataset['SH'] = SH\n",
    "    dataset['RH_srf'] = RH_srf\n",
    "    dataset['T_srf'] = T_srf\n",
    "    \n",
    "    dataset['shear_low'] = v_shear_low\n",
    "    dataset['shear_mid'] = v_shear_mid\n",
    "    dataset['shear_high'] = v_shear_high\n",
    "    dataset['T_low'] = T_low\n",
    "    dataset['T_mid'] = T_mid\n",
    "    dataset['T_high'] = T_high\n",
    "    dataset['q_low'] = q_low\n",
    "    dataset['q_mid'] = q_mid\n",
    "    dataset['q_high'] = q_high\n",
    "    dataset['T_adv_h_low'] = T_adv_h_low\n",
    "    dataset['T_adv_h_mid'] = T_adv_h_mid\n",
    "    dataset['T_adv_h_high'] = T_adv_h_high\n",
    "    dataset['s_adv_h_low'] = s_adv_h_low\n",
    "    dataset['s_adv_h_mid'] = s_adv_h_mid\n",
    "    dataset['s_adv_h_high'] = s_adv_h_high\n",
    "    \n",
    "    dataset['prect'] = prect\n",
    "    \n",
    "    #dataset['trigger'] = np.where(prect > 0.5,1,0)\n",
    "    #print(q.getAxis(1))\n",
    "    #print(q.getAxis(1)[:])\n",
    "    #print(prect.shape)\n",
    "    #print(q.shape)\n",
    "    \n",
    "    return dataset\n",
    "    \n",
    "#load_ArmData(feature_path+\"Arm_CF_1999_2009.nc\")"
   ]
  },
  {
   "cell_type": "code",
   "execution_count": 4,
   "metadata": {},
   "outputs": [],
   "source": [
    "dataset_all = {}\n",
    "dataset_train_all = {}\n",
    "dataset_test_all = {}"
   ]
  },
  {
   "cell_type": "markdown",
   "metadata": {},
   "source": [
    "# load data"
   ]
  },
  {
   "cell_type": "code",
   "execution_count": 5,
   "metadata": {},
   "outputs": [],
   "source": [
    "# read features\n",
    "\n",
    "for site in sites:\n",
    "    # load 4 cape triggers\n",
    "    cape4s = {}\n",
    "    for cape,cape_sh in zip(cape_names,cape_names_sh):\n",
    "        cape4s[cape_sh] = np.loadtxt(scam_dir+site+\"_\"+cape+\"_tiedke_0.5.txt\")\n",
    "        \n",
    "        if site == 'sgp':\n",
    "            dataset = load_ArmData(feature_path+\"Arm_CF_1999_2009.nc\")\n",
    "        elif site == 'goamazon':\n",
    "            dataset = load_ArmData(feature_path+\"goamazon_2014_2015.nc\")\n",
    "\n",
    "        cin = np.loadtxt(feature_path+\"cin_\"+site+\".txt\")\n",
    "        dataset['cin'] = cin\n",
    "        dataset['ddcape'] = cape4s['dd']\n",
    "        dataset['trigger'] = np.where(dataset.loc[:,'prect']>=0.5, 1, 0)\n",
    "        prect = dataset.loc[:,'prect']\n",
    "        \n",
    "        dataset.drop(columns='prect',inplace=True)\n",
    "        dataset['prect'] = prect\n",
    "        \n",
    "        #dataset[['prect','ddcape']] = dataset[['ddcape','prect']]\n",
    "        #dataset.rename(columns={'prect':'cape'}, inplace=True)\n",
    "        #dataset.rename(columns={'ddcape':'prect'}, inplace=True)\n",
    "        \n",
    "        #if site == 'sgp':\n",
    "        #    dataset = dataset.iloc[::3,:]\n",
    "    \n",
    "    dataset_all[site] = dataset"
   ]
  },
  {
   "cell_type": "code",
   "execution_count": 6,
   "metadata": {},
   "outputs": [
    {
     "data": {
      "text/html": [
       "<div>\n",
       "<style scoped>\n",
       "    .dataframe tbody tr th:only-of-type {\n",
       "        vertical-align: middle;\n",
       "    }\n",
       "\n",
       "    .dataframe tbody tr th {\n",
       "        vertical-align: top;\n",
       "    }\n",
       "\n",
       "    .dataframe thead th {\n",
       "        text-align: right;\n",
       "    }\n",
       "</style>\n",
       "<table border=\"1\" class=\"dataframe\">\n",
       "  <thead>\n",
       "    <tr style=\"text-align: right;\">\n",
       "      <th></th>\n",
       "      <th>LH</th>\n",
       "      <th>SH</th>\n",
       "      <th>RH_srf</th>\n",
       "      <th>T_srf</th>\n",
       "      <th>shear_low</th>\n",
       "      <th>shear_mid</th>\n",
       "      <th>shear_high</th>\n",
       "      <th>T_low</th>\n",
       "      <th>T_mid</th>\n",
       "      <th>T_high</th>\n",
       "      <th>...</th>\n",
       "      <th>T_adv_h_low</th>\n",
       "      <th>T_adv_h_mid</th>\n",
       "      <th>T_adv_h_high</th>\n",
       "      <th>s_adv_h_low</th>\n",
       "      <th>s_adv_h_mid</th>\n",
       "      <th>s_adv_h_high</th>\n",
       "      <th>cin</th>\n",
       "      <th>ddcape</th>\n",
       "      <th>trigger</th>\n",
       "      <th>prect</th>\n",
       "    </tr>\n",
       "  </thead>\n",
       "  <tbody>\n",
       "    <tr>\n",
       "      <th>0</th>\n",
       "      <td>75.466141</td>\n",
       "      <td>7.962654</td>\n",
       "      <td>67.626862</td>\n",
       "      <td>26.569201</td>\n",
       "      <td>-2.53340</td>\n",
       "      <td>-0.439800</td>\n",
       "      <td>2.277530</td>\n",
       "      <td>287.479797</td>\n",
       "      <td>261.649536</td>\n",
       "      <td>227.376801</td>\n",
       "      <td>...</td>\n",
       "      <td>0.302780</td>\n",
       "      <td>-0.041080</td>\n",
       "      <td>0.142072</td>\n",
       "      <td>0.236668</td>\n",
       "      <td>-0.101891</td>\n",
       "      <td>0.104103</td>\n",
       "      <td>-180.257112</td>\n",
       "      <td>118.7672</td>\n",
       "      <td>0</td>\n",
       "      <td>0.052067</td>\n",
       "    </tr>\n",
       "    <tr>\n",
       "      <th>1</th>\n",
       "      <td>24.207590</td>\n",
       "      <td>-0.258206</td>\n",
       "      <td>73.269478</td>\n",
       "      <td>25.152603</td>\n",
       "      <td>-2.60500</td>\n",
       "      <td>0.710010</td>\n",
       "      <td>2.058910</td>\n",
       "      <td>287.409790</td>\n",
       "      <td>261.649170</td>\n",
       "      <td>227.656403</td>\n",
       "      <td>...</td>\n",
       "      <td>0.265769</td>\n",
       "      <td>-0.067765</td>\n",
       "      <td>0.170913</td>\n",
       "      <td>0.235860</td>\n",
       "      <td>-0.095660</td>\n",
       "      <td>0.156116</td>\n",
       "      <td>-158.939301</td>\n",
       "      <td>187.9128</td>\n",
       "      <td>0</td>\n",
       "      <td>0.436567</td>\n",
       "    </tr>\n",
       "    <tr>\n",
       "      <th>2</th>\n",
       "      <td>2.120878</td>\n",
       "      <td>1.778930</td>\n",
       "      <td>78.389183</td>\n",
       "      <td>23.797127</td>\n",
       "      <td>-2.65099</td>\n",
       "      <td>2.490150</td>\n",
       "      <td>1.903800</td>\n",
       "      <td>287.400818</td>\n",
       "      <td>261.629364</td>\n",
       "      <td>227.907013</td>\n",
       "      <td>...</td>\n",
       "      <td>0.232422</td>\n",
       "      <td>-0.143987</td>\n",
       "      <td>0.153575</td>\n",
       "      <td>0.260052</td>\n",
       "      <td>-0.115239</td>\n",
       "      <td>0.182571</td>\n",
       "      <td>-144.168442</td>\n",
       "      <td>267.2368</td>\n",
       "      <td>1</td>\n",
       "      <td>0.969400</td>\n",
       "    </tr>\n",
       "    <tr>\n",
       "      <th>3</th>\n",
       "      <td>-2.306376</td>\n",
       "      <td>12.764638</td>\n",
       "      <td>81.118980</td>\n",
       "      <td>22.754717</td>\n",
       "      <td>-2.54720</td>\n",
       "      <td>3.758360</td>\n",
       "      <td>2.322770</td>\n",
       "      <td>287.463379</td>\n",
       "      <td>261.557800</td>\n",
       "      <td>227.999420</td>\n",
       "      <td>...</td>\n",
       "      <td>0.201240</td>\n",
       "      <td>-0.283218</td>\n",
       "      <td>0.039900</td>\n",
       "      <td>0.215509</td>\n",
       "      <td>-0.275333</td>\n",
       "      <td>0.026891</td>\n",
       "      <td>-140.555413</td>\n",
       "      <td>391.7533</td>\n",
       "      <td>1</td>\n",
       "      <td>1.625967</td>\n",
       "    </tr>\n",
       "    <tr>\n",
       "      <th>4</th>\n",
       "      <td>-13.743360</td>\n",
       "      <td>21.948606</td>\n",
       "      <td>82.284218</td>\n",
       "      <td>21.948774</td>\n",
       "      <td>-2.37520</td>\n",
       "      <td>3.851871</td>\n",
       "      <td>3.096439</td>\n",
       "      <td>287.494995</td>\n",
       "      <td>261.392853</td>\n",
       "      <td>227.882416</td>\n",
       "      <td>...</td>\n",
       "      <td>0.209696</td>\n",
       "      <td>-0.366890</td>\n",
       "      <td>-0.103215</td>\n",
       "      <td>0.184140</td>\n",
       "      <td>-0.408048</td>\n",
       "      <td>-0.180879</td>\n",
       "      <td>-139.208250</td>\n",
       "      <td>432.5973</td>\n",
       "      <td>1</td>\n",
       "      <td>1.869100</td>\n",
       "    </tr>\n",
       "  </tbody>\n",
       "</table>\n",
       "<p>5 rows × 23 columns</p>\n",
       "</div>"
      ],
      "text/plain": [
       "          LH         SH     RH_srf      T_srf  shear_low  shear_mid  \\\n",
       "0  75.466141   7.962654  67.626862  26.569201   -2.53340  -0.439800   \n",
       "1  24.207590  -0.258206  73.269478  25.152603   -2.60500   0.710010   \n",
       "2   2.120878   1.778930  78.389183  23.797127   -2.65099   2.490150   \n",
       "3  -2.306376  12.764638  81.118980  22.754717   -2.54720   3.758360   \n",
       "4 -13.743360  21.948606  82.284218  21.948774   -2.37520   3.851871   \n",
       "\n",
       "   shear_high       T_low       T_mid      T_high  ...  T_adv_h_low  \\\n",
       "0    2.277530  287.479797  261.649536  227.376801  ...     0.302780   \n",
       "1    2.058910  287.409790  261.649170  227.656403  ...     0.265769   \n",
       "2    1.903800  287.400818  261.629364  227.907013  ...     0.232422   \n",
       "3    2.322770  287.463379  261.557800  227.999420  ...     0.201240   \n",
       "4    3.096439  287.494995  261.392853  227.882416  ...     0.209696   \n",
       "\n",
       "   T_adv_h_mid  T_adv_h_high  s_adv_h_low  s_adv_h_mid  s_adv_h_high  \\\n",
       "0    -0.041080      0.142072     0.236668    -0.101891      0.104103   \n",
       "1    -0.067765      0.170913     0.235860    -0.095660      0.156116   \n",
       "2    -0.143987      0.153575     0.260052    -0.115239      0.182571   \n",
       "3    -0.283218      0.039900     0.215509    -0.275333      0.026891   \n",
       "4    -0.366890     -0.103215     0.184140    -0.408048     -0.180879   \n",
       "\n",
       "          cin    ddcape  trigger     prect  \n",
       "0 -180.257112  118.7672        0  0.052067  \n",
       "1 -158.939301  187.9128        0  0.436567  \n",
       "2 -144.168442  267.2368        1  0.969400  \n",
       "3 -140.555413  391.7533        1  1.625967  \n",
       "4 -139.208250  432.5973        1  1.869100  \n",
       "\n",
       "[5 rows x 23 columns]"
      ]
     },
     "execution_count": 6,
     "metadata": {},
     "output_type": "execute_result"
    }
   ],
   "source": [
    "dataset_all['sgp'].iloc[:,:23].head()"
   ]
  },
  {
   "cell_type": "markdown",
   "metadata": {},
   "source": [
    "# load arm97"
   ]
  },
  {
   "cell_type": "code",
   "execution_count": 7,
   "metadata": {},
   "outputs": [
    {
     "data": {
      "text/plain": [
       "[<matplotlib.lines.Line2D at 0x2aaaff18a2b0>]"
      ]
     },
     "execution_count": 7,
     "metadata": {},
     "output_type": "execute_result"
    },
    {
     "data": {
      "image/png": "[encoded data removed]",
      "text/plain": [
       "<Figure size 432x288 with 1 Axes>"
      ]
     },
     "metadata": {
      "needs_background": "light"
     },
     "output_type": "display_data"
    }
   ],
   "source": [
    "arm97_path=\"/global/homes/z/zhangtao/ML_trigger/ML/data/ARM97_4scam_uniform.nc\"\n",
    "arm97_cape = np.loadtxt(\"/global/homes/z/zhangtao/ML_trigger/calc_cape/scam_offline/arm97_dcape.txt\")\n",
    "arm97_cin = np.loadtxt(\"/global/homes/z/zhangtao/ML_trigger/calc_cape/ncar_metpy/cin_arm97.txt\")\n",
    "arm97 = load_ArmData(arm97_path)\n",
    "\n",
    "arm97['cin'] = arm97_cin\n",
    "arm97['ddcape'] = arm97_cape\n",
    "arm97['trigger'] = np.where(arm97.loc[:,'prect']>=0.5,1.0,0.0)\n",
    "prect = arm97.loc[:,'prect']\n",
    "\n",
    "arm97.drop(columns='prect',inplace=True)\n",
    "arm97['prect'] = prect\n",
    "\n",
    "plt.plot(arm97.loc[:,'prect'])\n",
    "plt.plot(arm97.loc[:,'trigger'])"
   ]
  },
  {
   "cell_type": "markdown",
   "metadata": {},
   "source": [
    "# load twp06"
   ]
  },
  {
   "cell_type": "code",
   "execution_count": 8,
   "metadata": {},
   "outputs": [],
   "source": [
    "twp06_path=\"/global/homes/z/zhangtao/ML_trigger/ML/data/TWP06_4scam_uniform.nc\"\n",
    "twp06_cape = np.loadtxt(\"/global/homes/z/zhangtao/ML_trigger/ML/data/twp06_dcape.txt\")\n",
    "twp06_cin = np.loadtxt(\"/global/homes/z/zhangtao/ML_trigger/ML/data/cin_twp06.txt\")\n",
    "twp06 = load_ArmData(twp06_path)\n",
    "\n",
    "twp06['cin'] = twp06_cin\n",
    "twp06['ddcape'] = twp06_cape\n",
    "twp06['trigger'] = np.where(twp06.loc[:,'prect']>=0.5,1,0)\n",
    "prect = twp06.loc[:,'prect']\n",
    "\n",
    "twp06.drop(columns='prect',inplace=True)\n",
    "twp06['prect'] = prect\n",
    "\n"
   ]
  },
  {
   "cell_type": "code",
   "execution_count": 9,
   "metadata": {},
   "outputs": [
    {
     "data": {
      "text/plain": [
       "[<matplotlib.lines.Line2D at 0x2aab07280c10>]"
      ]
     },
     "execution_count": 9,
     "metadata": {},
     "output_type": "execute_result"
    },
    {
     "data": {
      "image/png": "[encoded data removed]",
      "text/plain": [
       "<Figure size 432x288 with 1 Axes>"
      ]
     },
     "metadata": {
      "needs_background": "light"
     },
     "output_type": "display_data"
    }
   ],
   "source": [
    "plt.plot(twp06.loc[:,'prect'])\n",
    "plt.plot(twp06.loc[:,'trigger'])"
   ]
  },
  {
   "cell_type": "markdown",
   "metadata": {},
   "source": [
    "# verify cape value"
   ]
  },
  {
   "cell_type": "code",
   "execution_count": 25,
   "metadata": {},
   "outputs": [
    {
     "data": {
      "image/png": "[encoded data removed]",
      "text/plain": [
       "<Figure size 792x612 with 2 Axes>"
      ]
     },
     "metadata": {
      "needs_background": "light"
     },
     "output_type": "display_data"
    }
   ],
   "source": [
    "fig,axes = plt.subplots(2,1,figsize=(11,8.5),squeeze=False)\n",
    "\n",
    "for n,site in enumerate(sites):\n",
    "    dataset = dataset_all[site]\n",
    "    n_sample = dataset.shape[0]\n",
    "    real_trigger = np.zeros(n_sample)\n",
    "    \n",
    "    for i in range(n_sample):\n",
    "        if dataset.loc[i,'prect'] > 0.5:\n",
    "            real_trigger[i] = 1\n",
    "        else:\n",
    "            real_trigger[i] = np.nan\n",
    "    \n",
    "    axes[n][0].scatter(range(2000),real_trigger[:2000], color='k',marker='|',s=500)\n",
    "    axes[n][0].plot(range(2000), dataset.loc[:2000-1,'ddcape'])\n",
    "    #axes[n][0].set_title(site)"
   ]
  },
  {
   "cell_type": "markdown",
   "metadata": {},
   "source": [
    "# divide training and testing data"
   ]
  },
  {
   "cell_type": "code",
   "execution_count": 139,
   "metadata": {},
   "outputs": [],
   "source": [
    "dataset_all['sgp'] = twp06\n",
    "\n",
    "for site in sites:\n",
    "    dataset_x = dataset_all[site].iloc[:,:21+1]\n",
    "    dataset_y = dataset_all[site].iloc[:,21]\n",
    "    \n",
    "    #scaler = MinMaxScaler()\n",
    "    #dataset_x = pd.DataFrame(scaler.fit_transform(dataset_x),columns=dataset_x.columns)\n",
    "    \n",
    "    dataset_x_train, dataset_x_test, dataset_y_train, dataset_y_test=train_test_split(\n",
    "        dataset_x, dataset_y, test_size=0.3, random_state=20)\n",
    "    \n",
    "    dataset_train_all[site] = dataset_x_train\n",
    "    dataset_test_all[site] = dataset_x_test\n",
    "\n",
    "\n",
    "#dataset_train_all['sgp'] = dataset_all['sgp'].iloc[:,:21+1]\n",
    "#dataset_test_all['sgp'] = arm97.iloc[:,:22]\n",
    "#dataset_test_all['sgp'] = twp06.iloc[:,:22] \n",
    "\n",
    "#print(dataset_train_all['sgp'].shape)\n",
    "#print(dataset_test_all['sgp'].shape)\n",
    "\n",
    "#dataset_train_all['sgp'] = pd.concat([dataset_train_all['sgp'],arm97.iloc[:400,:22]])\n",
    "#dataset_test_all['sgp'] = arm97.iloc[400:,:22] \n",
    "\n",
    "#print(dataset_train_all['sgp'].shape)\n",
    "#print(dataset_test_all['sgp'].shape)"
   ]
  },
  {
   "cell_type": "markdown",
   "metadata": {},
   "source": [
    "# performance of cape triggers"
   ]
  },
  {
   "cell_type": "code",
   "execution_count": 140,
   "metadata": {},
   "outputs": [
    {
     "name": "stdout",
     "output_type": "stream",
     "text": [
      "sgp\n",
      "114 5 24 436\n",
      "0.9274865367922369 0.9529046401169163 0.9073745440205068\n"
     ]
    }
   ],
   "source": [
    "cape_thres = 65\n",
    "\n",
    "for site in sites:\n",
    "    print(site)\n",
    "    \n",
    "    dataset_test = dataset_test_all[site]\n",
    "    real_trigger = dataset_test_all[site].iloc[:,21]\n",
    "    \n",
    "    n_test = dataset_test.shape[0]\n",
    "    \n",
    "    cape_trigger = np.zeros(n_test)\n",
    "    for i in range(n_test):\n",
    "        if dataset_test.iloc[i,20] > cape_thres:\n",
    "            cape_trigger[i] = 1\n",
    "            \n",
    "    tn, fp, fn, tp = confusion_matrix(real_trigger, cape_trigger).ravel()\n",
    "    f1 = f1_score(real_trigger, cape_trigger,average='macro')\n",
    "    p  = precision_score(real_trigger, cape_trigger,average='macro')\n",
    "    r  = recall_score(real_trigger, cape_trigger,average='macro')\n",
    "\n",
    "    print(tp,fp,fn,tn)\n",
    "    print(f1, p, r)\n",
    "    "
   ]
  },
  {
   "cell_type": "markdown",
   "metadata": {},
   "source": [
    "# performance of xgb trigger"
   ]
  },
  {
   "cell_type": "code",
   "execution_count": 141,
   "metadata": {},
   "outputs": [
    {
     "name": "stdout",
     "output_type": "stream",
     "text": [
      "sgp\n",
      "132 3 6 438\n",
      "0.9784317377537717 0.9821321321321321 0.9748595090209997\n"
     ]
    },
    {
     "data": {
      "image/png": "[encoded data removed]",
      "text/plain": [
       "<Figure size 648x360 with 2 Axes>"
      ]
     },
     "metadata": {
      "needs_background": "light"
     },
     "output_type": "display_data"
    }
   ],
   "source": [
    "fig, axes = plt.subplots(1,2,figsize=(9,5), squeeze=False)\n",
    "titles = [\"(a) SGP\", \"(b) MAO\"]\n",
    "fh = 16\n",
    "\n",
    "for n,site in enumerate(sites):\n",
    "    dataset_train_x = dataset_train_all[site].iloc[:,:21]\n",
    "    dataset_train_y = dataset_train_all[site].iloc[:,21]\n",
    "    \n",
    "    dataset_test_x = dataset_test_all[site].iloc[:,:21]\n",
    "    dataset_test_y = dataset_test_all[site].iloc[:,21]\n",
    "    \n",
    "    #xgb = XGBClassifier(n_estimators=5, nthread=20, max_depth=3,scale_pos_weight=3.5)\n",
    "    xgb = XGBClassifier(n_estimators=600, nthread=20, max_depth=7,scale_pos_weight=3.5)\n",
    "    xgb.fit(dataset_train_x, dataset_train_y)\n",
    "    \n",
    "    data_predic_y = xgb.predict(dataset_test_x)\n",
    "    \n",
    "    tn, fp, fn, tp = confusion_matrix(dataset_test_y, data_predic_y).ravel()\n",
    "    f1 = f1_score(dataset_test_y, data_predic_y, average='macro')\n",
    "    p  = precision_score(dataset_test_y, data_predic_y, average='macro')\n",
    "    r  = recall_score(dataset_test_y, data_predic_y, average='macro')\n",
    "\n",
    "    print(site)\n",
    "    print(tp,fp,fn,tn)\n",
    "    print(f1,p,r)\n",
    "    \n",
    "    #display importance\n",
    "    importance = xgb.feature_importances_\n",
    "    name = dataset_all[site].columns.values.tolist()[:21]\n",
    "    imp = pd.DataFrame({\"imp\":importance, \"name\":name})\n",
    "    imp.sort_values('imp',inplace=True,ascending=False)\n",
    "    imp.reset_index(inplace=True)\n",
    "    axes[0][n].invert_yaxis()\n",
    "    axes[0][n].barh(imp.loc[:10,'name'],imp.loc[:10,'imp'])\n",
    "    axes[0][n].set_title(titles[n],fontsize=fh)\n",
    "    axes[0][n].tick_params(labelsize=fh)\n",
    "    \n",
    "plt.tight_layout()\n",
    "plt.savefig(\"figs/imp.pdf\")"
   ]
  },
  {
   "cell_type": "markdown",
   "metadata": {},
   "source": []
  },
  {
   "cell_type": "markdown",
   "metadata": {},
   "source": [
    "# MLER"
   ]
  },
  {
   "cell_type": "code",
   "execution_count": 66,
   "metadata": {},
   "outputs": [
    {
     "name": "stdout",
     "output_type": "stream",
     "text": [
      "sgp\n",
      "38 0 56 1425\n",
      "0.7782435504390082 0.9810938555030385 0.7021276595744681\n"
     ]
    }
   ],
   "source": [
    "for site in sites:\n",
    "    print(site)\n",
    "    \n",
    "    dataset_test = dataset_test_all[site]\n",
    "    real_trigger = np.array(dataset_test_all[site].iloc[:,21]) * 1.0\n",
    "\n",
    "    n_test = dataset_test.shape[0]    \n",
    "    cape_trigger = np.zeros(n_test)\n",
    "    \n",
    "    for i in range(n_test):\n",
    "        if dataset_test.iloc[i,20] > 168:\n",
    "            cape_trigger[i] = 1\n",
    "        elif dataset_test.iloc[i,20] < 26 and dataset_test.iloc[i,2] < 87:\n",
    "            cape_trigger[i] = 0\n",
    "        else:\n",
    "            cape_trigger[i] = np.nan\n",
    "            real_trigger[i] = np.nan\n",
    "    \n",
    "\n",
    "    cape_trigger = cape_trigger[~np.isnan(cape_trigger)]\n",
    "    real_trigger = real_trigger[~np.isnan(real_trigger)]\n",
    "    \n",
    "    tn, fp, fn, tp = confusion_matrix(real_trigger, cape_trigger).ravel()\n",
    "    f1 = f1_score(real_trigger, cape_trigger,average='macro')\n",
    "    p  = precision_score(real_trigger, cape_trigger,average='macro')\n",
    "    r  = recall_score(real_trigger, cape_trigger,average='macro')\n",
    "\n",
    "    print(tp,fp,fn,tn)\n",
    "    print(f1, p, r)\n",
    "    "
   ]
  },
  {
   "cell_type": "code",
   "execution_count": null,
   "metadata": {},
   "outputs": [],
   "source": []
  }
 ],
 "metadata": {
  "kernelspec": {
   "display_name": "luffy",
   "language": "python",
   "name": "luffy"
  },
  "language_info": {
   "codemirror_mode": {
    "name": "ipython",
    "version": 3
   },
   "file_extension": ".py",
   "mimetype": "text/x-python",
   "name": "python",
   "nbconvert_exporter": "python",
   "pygments_lexer": "ipython3",
   "version": "3.8.5"
  },
  "toc-autonumbering": true,
  "toc-showmarkdowntxt": false,
  "toc-showtags": false
 },
 "nbformat": 4,
 "nbformat_minor": 4
}
